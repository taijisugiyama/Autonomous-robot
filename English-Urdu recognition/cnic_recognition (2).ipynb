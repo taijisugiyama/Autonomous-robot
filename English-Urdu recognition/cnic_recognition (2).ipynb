{
 "cells": [
  {
   "cell_type": "code",
   "execution_count": 25,
   "metadata": {},
   "outputs": [],
   "source": [
    "# Import the neccessary modules for data manipulation and visual representation\n",
    "import pandas as pd\n",
    "import numpy as np\n",
    "import matplotlib.pyplot as plt\n",
    "import matplotlib as matplot\n",
    "import cv2\n",
    "import os\n",
    "import keras\n",
    "from tensorflow.keras.models import Sequential\n",
    "from tensorflow.keras.layers import Dense, Flatten, Dropout, Activation, Conv2D, MaxPooling2D"
   ]
  },
  {
   "cell_type": "code",
   "execution_count": 12,
   "metadata": {},
   "outputs": [
    {
     "name": "stdout",
     "output_type": "stream",
     "text": [
      "(73, 500, 500, 3) (73,)\n"
     ]
    }
   ],
   "source": [
    "from os import listdir\n",
    "from numpy import asarray\n",
    "from numpy import save\n",
    "from keras.preprocessing.image import load_img\n",
    "from keras.preprocessing.image import img_to_array\n",
    "# define location of dataset\n",
    "folder = 'C:/Users/user/Desktop/cnic/'\n",
    "photos, labels = list(), list()\n",
    "# enumerate files in the directory\n",
    "for file in listdir(folder):\n",
    "    # determine class\n",
    "    output = 0.0\n",
    "    if file.startswith('urdu'):\n",
    "        output = 1.0\n",
    "    # load image\n",
    "    photo = load_img(folder + file, target_size=(500, 500))\n",
    "    # convert to numpy array\n",
    "    photo = img_to_array(photo)\n",
    "    # store\n",
    "    photos.append(photo)\n",
    "    labels.append(output)\n",
    "# convert to a numpy arrays\n",
    "photos = asarray(photos)\n",
    "labels = asarray(labels)\n",
    "print(photos.shape, labels.shape)"
   ]
  },
  {
   "cell_type": "code",
   "execution_count": 13,
   "metadata": {},
   "outputs": [],
   "source": [
    "from sklearn.model_selection import train_test_split\n",
    "photos= photos/255.0\n",
    "X_train, X_test, y_train, y_test = train_test_split( photos, labels, test_size=0.2, random_state=42)\n"
   ]
  },
  {
   "cell_type": "code",
   "execution_count": 14,
   "metadata": {},
   "outputs": [
    {
     "data": {
      "text/plain": [
       "(58, 500, 500, 3)"
      ]
     },
     "execution_count": 14,
     "metadata": {},
     "output_type": "execute_result"
    }
   ],
   "source": [
    "X_train.shape"
   ]
  },
  {
   "cell_type": "code",
   "execution_count": 17,
   "metadata": {},
   "outputs": [],
   "source": [
    "# define cnn model\n",
    "from tensorflow.keras.optimizers import SGD\n",
    "def define_model():\n",
    "    model = Sequential()\n",
    "    model.add(Conv2D(32, (3, 3), activation='relu', kernel_initializer='he_uniform', padding='same',input_shape=(500, 500, 3)))\n",
    "    model.add(MaxPooling2D((2, 2)))\n",
    "    model.add(Flatten())\n",
    "    model.add(Dense(128, activation='relu', kernel_initializer='he_uniform'))\n",
    "    model.add(Dense(1, activation='sigmoid'))\n",
    "    # compile model\n",
    "    opt = SGD(lr=0.001, momentum=0.9)\n",
    "    model.compile(optimizer=opt, loss='binary_crossentropy', metrics=['accuracy'])\n",
    "    return model"
   ]
  },
  {
   "cell_type": "code",
   "execution_count": 18,
   "metadata": {},
   "outputs": [],
   "source": [
    "model = define_model()"
   ]
  },
  {
   "cell_type": "code",
   "execution_count": 19,
   "metadata": {},
   "outputs": [
    {
     "name": "stdout",
     "output_type": "stream",
     "text": [
      "Train on 58 samples, validate on 15 samples\n",
      "Epoch 1/10\n",
      "58/58 [==============================] - 216s 4s/sample - loss: 5.0238 - accuracy: 0.6897 - val_loss: 0.8149 - val_accuracy: 0.7333\n",
      "Epoch 2/10\n",
      "58/58 [==============================] - 225s 4s/sample - loss: 0.5911 - accuracy: 0.7241 - val_loss: 0.6191 - val_accuracy: 0.7333\n",
      "Epoch 3/10\n",
      "58/58 [==============================] - 231s 4s/sample - loss: 0.5775 - accuracy: 0.7414 - val_loss: 0.5306 - val_accuracy: 0.7333\n",
      "Epoch 4/10\n",
      "58/58 [==============================] - 218s 4s/sample - loss: 0.4313 - accuracy: 0.7414 - val_loss: 0.4649 - val_accuracy: 0.7333\n",
      "Epoch 5/10\n",
      "58/58 [==============================] - 223s 4s/sample - loss: 0.2919 - accuracy: 0.8793 - val_loss: 0.4286 - val_accuracy: 0.7333\n",
      "Epoch 6/10\n",
      "58/58 [==============================] - 244s 4s/sample - loss: 0.1848 - accuracy: 0.9828 - val_loss: 0.4419 - val_accuracy: 0.8000\n",
      "Epoch 7/10\n",
      "58/58 [==============================] - 239s 4s/sample - loss: 0.1406 - accuracy: 0.9483 - val_loss: 0.4625 - val_accuracy: 0.7333\n",
      "Epoch 8/10\n",
      "58/58 [==============================] - 242s 4s/sample - loss: 0.0867 - accuracy: 1.0000 - val_loss: 0.4048 - val_accuracy: 0.8000\n",
      "Epoch 9/10\n",
      "58/58 [==============================] - 231s 4s/sample - loss: 0.0648 - accuracy: 1.0000 - val_loss: 0.3744 - val_accuracy: 0.8000\n",
      "Epoch 10/10\n",
      "58/58 [==============================] - 265s 5s/sample - loss: 0.0504 - accuracy: 0.9828 - val_loss: 0.3916 - val_accuracy: 0.8000\n"
     ]
    }
   ],
   "source": [
    " classification_cnic = model.fit(X_train, y_train, epochs=10, validation_data=(X_test, y_test), batch_size=6, verbose=1)"
   ]
  },
  {
   "cell_type": "code",
   "execution_count": 20,
   "metadata": {},
   "outputs": [
    {
     "data": {
      "text/plain": [
       "Text(0.5, 0, 'Epoch')"
      ]
     },
     "execution_count": 20,
     "metadata": {},
     "output_type": "execute_result"
    },
    {
     "data": {
      "image/png": "[encoded data removed]",
      "text/plain": [
       "<Figure size 432x288 with 1 Axes>"
      ]
     },
     "metadata": {
      "needs_background": "light"
     },
     "output_type": "display_data"
    }
   ],
   "source": [
    "plt.plot(classification_cnic.history['loss'])\n",
    "plt.plot(classification_cnic.history['val_loss'])\n",
    "plt.legend(['training', 'validation'])\n",
    "plt.title('Loss')\n",
    "plt.xlabel('Epoch')"
   ]
  },
  {
   "cell_type": "code",
   "execution_count": null,
   "metadata": {},
   "outputs": [],
   "source": []
  }
 ],
 "metadata": {
  "kernelspec": {
   "display_name": "Python 3",
   "language": "python",
   "name": "python3"
  },
  "language_info": {
   "codemirror_mode": {
    "name": "ipython",
    "version": 3
   },
   "file_extension": ".py",
   "mimetype": "text/x-python",
   "name": "python",
   "nbconvert_exporter": "python",
   "pygments_lexer": "ipython3",
   "version": "3.7.4"
  }
 },
 "nbformat": 4,
 "nbformat_minor": 2
}
